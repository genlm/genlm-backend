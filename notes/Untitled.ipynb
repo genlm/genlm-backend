{
 "cells": [
  {
   "cell_type": "code",
   "execution_count": 2,
   "id": "21839ddb-6090-4866-beb4-b24a7c2f4e80",
   "metadata": {},
   "outputs": [],
   "source": [
    "import genlm\n",
    "import numpy as np"
   ]
  },
  {
   "cell_type": "code",
   "execution_count": null,
   "id": "ca6090bf-5ef9-45ee-8e15-12c0c9399422",
   "metadata": {},
   "outputs": [],
   "source": []
  }
 ],
 "metadata": {
  "kernelspec": {
   "display_name": "Python genlm",
   "language": "python",
   "name": "genlm"
  },
  "language_info": {
   "codemirror_mode": {
    "name": "ipython",
    "version": 3
   },
   "file_extension": ".py",
   "mimetype": "text/x-python",
   "name": "python",
   "nbconvert_exporter": "python",
   "pygments_lexer": "ipython3",
   "version": "3.11.13"
  }
 },
 "nbformat": 4,
 "nbformat_minor": 5
}
